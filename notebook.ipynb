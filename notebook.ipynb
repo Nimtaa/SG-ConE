{
 "cells": [
  {
   "cell_type": "code",
   "execution_count": 7,
   "id": "1061c7c1",
   "metadata": {},
   "outputs": [],
   "source": [
    "import numpy as np\n",
    "import pickle\n",
    "from sklearn.model_selection import train_test_split\n",
    "from itertools import chain\n",
    "import torch\n",
    "from torch.utils.data import TensorDataset, DataLoader\n"
   ]
  },
  {
   "cell_type": "code",
   "execution_count": 2,
   "id": "19ee180e",
   "metadata": {},
   "outputs": [],
   "source": [
    "with open('../code/SGO-Models/X_emb_vit.pkl', 'rb') as f:\n",
    "    X_emb = pickle.load(f)\n",
    "    \n",
    "with open('../code/SGO-Models/Y_emb_vit.pkl', 'rb') as f:\n",
    "    Y_emb = pickle.load(f)"
   ]
  },
  {
   "cell_type": "code",
   "execution_count": 3,
   "id": "ac26515e",
   "metadata": {},
   "outputs": [],
   "source": [
    "X_emb = list(chain.from_iterable(X_emb))\n",
    "Y_emb = [item for item in Y_emb for _ in range(2)]"
   ]
  },
  {
   "cell_type": "code",
   "execution_count": 4,
   "id": "e50d41fc",
   "metadata": {},
   "outputs": [],
   "source": [
    "X_input, test_input, X_output, test_output, X_indices, test_indices = train_test_split(X_emb, Y_emb, np.arange(len(X_emb)), test_size=0.2, shuffle=True)\n",
    "\n",
    "train_input, val_input, train_output, val_output, train_indices, val_indices = train_test_split(X_input, X_output, X_indices, test_size=0.2, shuffle=False)\n",
    "\n",
    "\n",
    "train_input = torch.cat(train_input)\n",
    "test_input =  torch.cat(test_input)\n",
    "val_input = torch.cat(val_input)\n",
    "\n",
    "train_output = torch.cat(train_output)\n",
    "test_output = torch.cat(test_output)\n",
    "val_output = torch.cat(val_output)"
   ]
  },
  {
   "cell_type": "code",
   "execution_count": 6,
   "id": "36f01882",
   "metadata": {},
   "outputs": [],
   "source": [
    "torch.save(train_input, './data/SG/train_input.pt')\n",
    "torch.save(train_output, './data/SG/train_output.pt')\n",
    "torch.save(test_input, './data/SG/test_input.pt')\n",
    "torch.save(test_output, './data/SG/test_output.pt')\n",
    "torch.save(val_input, './data/SG/val_input.pt')\n",
    "torch.save(val_output, './data/SG/val_output.pt')\n",
    "\n",
    "torch.save(train_indices, './data/SG/train_indices.pt')\n",
    "torch.save(test_indices, './data/SG/test_indices.pt')\n",
    "torch.save(val_indices, './data/SG/val_indices.pt')"
   ]
  },
  {
   "cell_type": "code",
   "execution_count": 9,
   "id": "4697884a",
   "metadata": {},
   "outputs": [],
   "source": [
    "with open('./data/FB15k-q2b/train-queries.pkl', 'rb') as f:\n",
    "    train_q = pickle.load(f)\n"
   ]
  },
  {
   "cell_type": "code",
   "execution_count": 5,
   "id": "0421e1fc",
   "metadata": {},
   "outputs": [
    {
     "data": {
      "text/plain": [
       "torch.Size([249867, 768])"
      ]
     },
     "execution_count": 5,
     "metadata": {},
     "output_type": "execute_result"
    }
   ],
   "source": [
    "train_indices = torch.load('./data/SG/train_indices.pt')\n",
    "train_input = torch.load('./data/SG/train_input.pt')\n",
    "train_output = torch.load('./data/SG/train_output.pt')\n",
    "train_output.shape"
   ]
  },
  {
   "cell_type": "code",
   "execution_count": 9,
   "id": "32db3dbb",
   "metadata": {},
   "outputs": [
    {
     "ename": "TypeError",
     "evalue": "'int' object is not callable",
     "output_type": "error",
     "traceback": [
      "\u001b[0;31m---------------------------------------------------------------------------\u001b[0m",
      "\u001b[0;31mTypeError\u001b[0m                                 Traceback (most recent call last)",
      "Cell \u001b[0;32mIn[9], line 1\u001b[0m\n\u001b[0;32m----> 1\u001b[0m \u001b[43mTensorDataset\u001b[49m\u001b[43m(\u001b[49m\u001b[43mtrain_input\u001b[49m\u001b[43m,\u001b[49m\u001b[43m \u001b[49m\u001b[43mtrain_output\u001b[49m\u001b[43m,\u001b[49m\u001b[43m \u001b[49m\u001b[43mtrain_indices\u001b[49m\u001b[43m)\u001b[49m\n",
      "File \u001b[0;32m~/anaconda3/envs/clipgraph/lib/python3.10/site-packages/torch/utils/data/dataset.py:192\u001b[0m, in \u001b[0;36mTensorDataset.__init__\u001b[0;34m(self, *tensors)\u001b[0m\n\u001b[1;32m    191\u001b[0m \u001b[38;5;28;01mdef\u001b[39;00m \u001b[38;5;21m__init__\u001b[39m(\u001b[38;5;28mself\u001b[39m, \u001b[38;5;241m*\u001b[39mtensors: Tensor) \u001b[38;5;241m-\u001b[39m\u001b[38;5;241m>\u001b[39m \u001b[38;5;28;01mNone\u001b[39;00m:\n\u001b[0;32m--> 192\u001b[0m     \u001b[38;5;28;01massert\u001b[39;00m \u001b[38;5;28;43mall\u001b[39;49m\u001b[43m(\u001b[49m\u001b[43mtensors\u001b[49m\u001b[43m[\u001b[49m\u001b[38;5;241;43m0\u001b[39;49m\u001b[43m]\u001b[49m\u001b[38;5;241;43m.\u001b[39;49m\u001b[43msize\u001b[49m\u001b[43m(\u001b[49m\u001b[38;5;241;43m0\u001b[39;49m\u001b[43m)\u001b[49m\u001b[43m \u001b[49m\u001b[38;5;241;43m==\u001b[39;49m\u001b[43m \u001b[49m\u001b[43mtensor\u001b[49m\u001b[38;5;241;43m.\u001b[39;49m\u001b[43msize\u001b[49m\u001b[43m(\u001b[49m\u001b[38;5;241;43m0\u001b[39;49m\u001b[43m)\u001b[49m\u001b[43m \u001b[49m\u001b[38;5;28;43;01mfor\u001b[39;49;00m\u001b[43m \u001b[49m\u001b[43mtensor\u001b[49m\u001b[43m \u001b[49m\u001b[38;5;129;43;01min\u001b[39;49;00m\u001b[43m \u001b[49m\u001b[43mtensors\u001b[49m\u001b[43m)\u001b[49m, \u001b[38;5;124m\"\u001b[39m\u001b[38;5;124mSize mismatch between tensors\u001b[39m\u001b[38;5;124m\"\u001b[39m\n\u001b[1;32m    193\u001b[0m     \u001b[38;5;28mself\u001b[39m\u001b[38;5;241m.\u001b[39mtensors \u001b[38;5;241m=\u001b[39m tensors\n",
      "File \u001b[0;32m~/anaconda3/envs/clipgraph/lib/python3.10/site-packages/torch/utils/data/dataset.py:192\u001b[0m, in \u001b[0;36m<genexpr>\u001b[0;34m(.0)\u001b[0m\n\u001b[1;32m    191\u001b[0m \u001b[38;5;28;01mdef\u001b[39;00m \u001b[38;5;21m__init__\u001b[39m(\u001b[38;5;28mself\u001b[39m, \u001b[38;5;241m*\u001b[39mtensors: Tensor) \u001b[38;5;241m-\u001b[39m\u001b[38;5;241m>\u001b[39m \u001b[38;5;28;01mNone\u001b[39;00m:\n\u001b[0;32m--> 192\u001b[0m     \u001b[38;5;28;01massert\u001b[39;00m \u001b[38;5;28mall\u001b[39m(tensors[\u001b[38;5;241m0\u001b[39m]\u001b[38;5;241m.\u001b[39msize(\u001b[38;5;241m0\u001b[39m) \u001b[38;5;241m==\u001b[39m \u001b[43mtensor\u001b[49m\u001b[38;5;241;43m.\u001b[39;49m\u001b[43msize\u001b[49m\u001b[43m(\u001b[49m\u001b[38;5;241;43m0\u001b[39;49m\u001b[43m)\u001b[49m \u001b[38;5;28;01mfor\u001b[39;00m tensor \u001b[38;5;129;01min\u001b[39;00m tensors), \u001b[38;5;124m\"\u001b[39m\u001b[38;5;124mSize mismatch between tensors\u001b[39m\u001b[38;5;124m\"\u001b[39m\n\u001b[1;32m    193\u001b[0m     \u001b[38;5;28mself\u001b[39m\u001b[38;5;241m.\u001b[39mtensors \u001b[38;5;241m=\u001b[39m tensors\n",
      "\u001b[0;31mTypeError\u001b[0m: 'int' object is not callable"
     ]
    }
   ],
   "source": [
    "TensorDataset(train_input, train_output, train_indices)"
   ]
  },
  {
   "cell_type": "code",
   "execution_count": 19,
   "id": "b87fa508",
   "metadata": {},
   "outputs": [
    {
     "data": {
      "text/plain": [
       "tensor([0])"
      ]
     },
     "execution_count": 19,
     "metadata": {},
     "output_type": "execute_result"
    }
   ],
   "source": []
  },
  {
   "cell_type": "code",
   "execution_count": null,
   "id": "95183782",
   "metadata": {},
   "outputs": [],
   "source": []
  }
 ],
 "metadata": {
  "kernelspec": {
   "display_name": "Python 3 (ipykernel)",
   "language": "python",
   "name": "python3"
  },
  "language_info": {
   "codemirror_mode": {
    "name": "ipython",
    "version": 3
   },
   "file_extension": ".py",
   "mimetype": "text/x-python",
   "name": "python",
   "nbconvert_exporter": "python",
   "pygments_lexer": "ipython3",
   "version": "3.10.9"
  }
 },
 "nbformat": 4,
 "nbformat_minor": 5
}
