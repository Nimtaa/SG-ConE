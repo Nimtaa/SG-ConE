{
 "cells": [
  {
   "cell_type": "code",
   "execution_count": 26,
   "id": "1061c7c1",
   "metadata": {},
   "outputs": [],
   "source": [
    "import numpy as np\n",
    "import pickle\n",
    "from sklearn.model_selection import train_test_split\n",
    "from itertools import chain\n",
    "import torch\n",
    "from torch.utils.data import TensorDataset, DataLoader\n",
    "import math"
   ]
  },
  {
   "cell_type": "code",
   "execution_count": 10,
   "id": "19ee180e",
   "metadata": {},
   "outputs": [],
   "source": [
    "with open('../code/SGO-Models/X_emb_vit.pkl', 'rb') as f:\n",
    "    X_emb = pickle.load(f)\n",
    "    \n",
    "with open('../code/SGO-Models/Y_emb_vit.pkl', 'rb') as f:\n",
    "    Y_emb = pickle.load(f)"
   ]
  },
  {
   "cell_type": "code",
   "execution_count": 11,
   "id": "7f6a7efc",
   "metadata": {},
   "outputs": [],
   "source": [
    "with open('data/SG/interesting_queries_mask.pkl', 'rb') as f:\n",
    "    interesting_queries = pickle.load(f)\n",
    "\n"
   ]
  },
  {
   "cell_type": "code",
   "execution_count": 13,
   "id": "d4e14634",
   "metadata": {},
   "outputs": [],
   "source": [
    "X_emb = [item for idx, item in enumerate(X_emb) if interesting_queries[idx]]"
   ]
  },
  {
   "cell_type": "code",
   "execution_count": 15,
   "id": "b8cccef5",
   "metadata": {},
   "outputs": [],
   "source": [
    "Y_emb = [item for idx, item in enumerate(Y_emb) if interesting_queries[idx]]"
   ]
  },
  {
   "cell_type": "code",
   "execution_count": 16,
   "id": "ac26515e",
   "metadata": {},
   "outputs": [],
   "source": [
    "X_emb = list(chain.from_iterable(X_emb))\n",
    "Y_emb = [item for item in Y_emb for _ in range(2)]"
   ]
  },
  {
   "cell_type": "code",
   "execution_count": null,
   "id": "0eb7b285",
   "metadata": {},
   "outputs": [],
   "source": []
  },
  {
   "cell_type": "code",
   "execution_count": 18,
   "id": "e50d41fc",
   "metadata": {},
   "outputs": [],
   "source": [
    "X_input, test_input, X_output, test_output, X_indices, test_indices = train_test_split(X_emb, Y_emb, np.arange(len(X_emb)), test_size=0.2, shuffle=True)\n",
    "\n",
    "train_input, val_input, train_output, val_output, train_indices, val_indices = train_test_split(X_input, X_output, X_indices, test_size=0.2, shuffle=False)\n",
    "\n",
    "\n",
    "train_input = torch.cat(train_input)\n",
    "test_input =  torch.cat(test_input)\n",
    "val_input = torch.cat(val_input)\n",
    "\n",
    "train_output = torch.cat(train_output)\n",
    "test_output = torch.cat(test_output)\n",
    "val_output = torch.cat(val_output)"
   ]
  },
  {
   "cell_type": "code",
   "execution_count": 19,
   "id": "36f01882",
   "metadata": {},
   "outputs": [],
   "source": [
    "torch.save(train_input, './data/SG/train_input.pt')\n",
    "torch.save(train_output, './data/SG/train_output.pt')\n",
    "torch.save(test_input, './data/SG/test_input.pt')\n",
    "torch.save(test_output, './data/SG/test_output.pt')\n",
    "torch.save(val_input, './data/SG/val_input.pt')\n",
    "torch.save(val_output, './data/SG/val_output.pt')\n",
    "\n",
    "torch.save(train_indices, './data/SG/train_indices.pt')\n",
    "torch.save(test_indices, './data/SG/test_indices.pt')\n",
    "torch.save(val_indices, './data/SG/val_indices.pt')"
   ]
  },
  {
   "cell_type": "code",
   "execution_count": 31,
   "id": "0421e1fc",
   "metadata": {},
   "outputs": [],
   "source": [
    "train_indices = torch.load('./data/SG/train_indices.pt')\n",
    "# test_indices = torch.load('./data/SG/test_indices.pt')\n",
    "# val_indices = torch.load('./data/SG/val_indices.pt')\n",
    "\n",
    "# train_input = torch.load('./data/SG/train_input.pt')\n",
    "# train_output = torch.load('./data/SG/train_output.pt')\n"
   ]
  },
  {
   "cell_type": "code",
   "execution_count": null,
   "id": "19404114",
   "metadata": {},
   "outputs": [],
   "source": []
  },
  {
   "cell_type": "code",
   "execution_count": null,
   "id": "57b7ab1f",
   "metadata": {},
   "outputs": [],
   "source": []
  },
  {
   "cell_type": "code",
   "execution_count": 20,
   "id": "95183782",
   "metadata": {},
   "outputs": [
    {
     "data": {
      "text/plain": [
       "118158"
      ]
     },
     "execution_count": 20,
     "metadata": {},
     "output_type": "execute_result"
    }
   ],
   "source": [
    "len(X_emb)"
   ]
  },
  {
   "cell_type": "code",
   "execution_count": 21,
   "id": "1ad1858e",
   "metadata": {},
   "outputs": [
    {
     "data": {
      "text/plain": [
       "118158"
      ]
     },
     "execution_count": 21,
     "metadata": {},
     "output_type": "execute_result"
    }
   ],
   "source": [
    "len(train_indices)+len(test_indices)+len(val_indices)"
   ]
  },
  {
   "cell_type": "code",
   "execution_count": 30,
   "id": "aa3874fe",
   "metadata": {},
   "outputs": [
    {
     "data": {
      "text/plain": [
       "0"
      ]
     },
     "execution_count": 30,
     "metadata": {},
     "output_type": "execute_result"
    }
   ],
   "source": [
    "math.floor(1/2) + len(X_emb)"
   ]
  },
  {
   "cell_type": "code",
   "execution_count": 33,
   "id": "0d7121b3",
   "metadata": {},
   "outputs": [
    {
     "data": {
      "text/plain": [
       "array([ 2088, 82966, 63463, ..., 61061, 50873, 91545])"
      ]
     },
     "execution_count": 33,
     "metadata": {},
     "output_type": "execute_result"
    }
   ],
   "source": [
    "train_indices"
   ]
  },
  {
   "cell_type": "code",
   "execution_count": 43,
   "id": "ac53fe06",
   "metadata": {},
   "outputs": [],
   "source": [
    "a = []\n",
    "for i in train_indices:\n",
    "    a.append(math.floor(i/2) + len(X_emb)//3)\n",
    "    "
   ]
  },
  {
   "cell_type": "code",
   "execution_count": null,
   "id": "6a8bd654",
   "metadata": {},
   "outputs": [],
   "source": []
  }
 ],
 "metadata": {
  "kernelspec": {
   "display_name": "Python 3 (ipykernel)",
   "language": "python",
   "name": "python3"
  },
  "language_info": {
   "codemirror_mode": {
    "name": "ipython",
    "version": 3
   },
   "file_extension": ".py",
   "mimetype": "text/x-python",
   "name": "python",
   "nbconvert_exporter": "python",
   "pygments_lexer": "ipython3",
   "version": "3.10.9"
  }
 },
 "nbformat": 4,
 "nbformat_minor": 5
}
